{
  "nbformat": 4,
  "nbformat_minor": 0,
  "metadata": {
    "colab": {
      "provenance": [],
      "authorship_tag": "ABX9TyNF9RTNDhQBrgE1cw1zSwsA"
    },
    "kernelspec": {
      "name": "python3",
      "display_name": "Python 3"
    },
    "language_info": {
      "name": "python"
    }
  },
  "cells": [
    {
      "cell_type": "code",
      "execution_count": 1,
      "metadata": {
        "id": "Q2cmWu_ImxRQ"
      },
      "outputs": [],
      "source": [
        "import numpy as np\n",
        "from scipy import stats"
      ]
    },
    {
      "cell_type": "markdown",
      "source": [
        "**Задача 1.**Провести дисперсионный анализ для определения того, есть ли различия среднего\n",
        "роста среди взрослых футболистов, хоккеистов и штангистов.\n",
        "Даны значения роста в трех группах случайно выбранных спортсменов:\n",
        "Футболисты: 173, 175, 180, 178, 177, 185, 183, 182.\n",
        "Хоккеисты: 177, 179, 180, 188, 177, 172, 171, 184, 180.\n",
        "Штангисты: 172, 173, 169, 177, 166, 180, 178, 177, 172, 166, 170."
      ],
      "metadata": {
        "id": "ASzfwznmnBrV"
      }
    },
    {
      "cell_type": "code",
      "source": [
        "x1=np.array([173, 175, 180, 178, 177, 185, 183, 182])\n",
        "x2=np.array([177, 179, 180, 188, 177, 172, 171, 184, 180])\n",
        "x3=np.array([172, 173, 169, 177, 166, 180, 178, 177, 172, 166, 170])"
      ],
      "metadata": {
        "id": "Ja20mEKmnDMh"
      },
      "execution_count": 2,
      "outputs": []
    },
    {
      "cell_type": "code",
      "source": [
        "alpha=0.05"
      ],
      "metadata": {
        "id": "RPKETkDuwyCf"
      },
      "execution_count": 3,
      "outputs": []
    },
    {
      "cell_type": "markdown",
      "source": [
        "Проверим данные на нормальность распределения"
      ],
      "metadata": {
        "id": "xVNTEffpw7Tx"
      }
    },
    {
      "cell_type": "code",
      "source": [
        "stats.shapiro(x1)"
      ],
      "metadata": {
        "colab": {
          "base_uri": "https://localhost:8080/"
        },
        "id": "140bBzufvjjZ",
        "outputId": "7dd85904-8c13-46d8-e269-20876481207c"
      },
      "execution_count": 4,
      "outputs": [
        {
          "output_type": "execute_result",
          "data": {
            "text/plain": [
              "ShapiroResult(statistic=0.9775081276893616, pvalue=0.9495397210121155)"
            ]
          },
          "metadata": {},
          "execution_count": 4
        }
      ]
    },
    {
      "cell_type": "code",
      "source": [
        "stats.shapiro(x2)"
      ],
      "metadata": {
        "colab": {
          "base_uri": "https://localhost:8080/"
        },
        "id": "N5SE2AzMwo9o",
        "outputId": "3c6667c1-8c2f-4bdc-df06-93327e38b0fe"
      },
      "execution_count": 5,
      "outputs": [
        {
          "output_type": "execute_result",
          "data": {
            "text/plain": [
              "ShapiroResult(statistic=0.9579195976257324, pvalue=0.7763133645057678)"
            ]
          },
          "metadata": {},
          "execution_count": 5
        }
      ]
    },
    {
      "cell_type": "code",
      "source": [
        "stats.shapiro(x3)"
      ],
      "metadata": {
        "colab": {
          "base_uri": "https://localhost:8080/"
        },
        "id": "VRBPatjhwrDH",
        "outputId": "f771096f-28a5-4766-898a-0787d2ff0749"
      },
      "execution_count": 6,
      "outputs": [
        {
          "output_type": "execute_result",
          "data": {
            "text/plain": [
              "ShapiroResult(statistic=0.93868088722229, pvalue=0.5051169991493225)"
            ]
          },
          "metadata": {},
          "execution_count": 6
        }
      ]
    },
    {
      "cell_type": "markdown",
      "source": [
        "p-value для каждой выборки больше alpha, значит принимаем $H_0$ что данные распределены нормально.\n",
        "Проверим равенство дисперсий."
      ],
      "metadata": {
        "id": "0Mpgp6edxAP3"
      }
    },
    {
      "cell_type": "code",
      "source": [
        "stats.bartlett(x1,x2,x3)"
      ],
      "metadata": {
        "colab": {
          "base_uri": "https://localhost:8080/"
        },
        "id": "_b9pEWVOy40c",
        "outputId": "ba2f8ce5-2d6f-4348-be63-1301cf0804ba"
      },
      "execution_count": 7,
      "outputs": [
        {
          "output_type": "execute_result",
          "data": {
            "text/plain": [
              "BartlettResult(statistic=0.4640521043406442, pvalue=0.7929254656083131)"
            ]
          },
          "metadata": {},
          "execution_count": 7
        }
      ]
    },
    {
      "cell_type": "markdown",
      "source": [
        "p-value для каждой выборки больше alpha, значит принимаем $H_0$ что дисперсии равны. Теперь можем провести однофакторный дисперсионный анализ."
      ],
      "metadata": {
        "id": "pUdZzPmbzYBY"
      }
    },
    {
      "cell_type": "markdown",
      "source": [
        "$H0: m_1=m_2=m_3$                                      \n",
        "$H1: m_1\\neq m_2 \\neq m_3$"
      ],
      "metadata": {
        "id": "hyQ_hz6Pqw_t"
      }
    },
    {
      "cell_type": "code",
      "source": [
        "stats.f_oneway(x1, x2, x3)"
      ],
      "metadata": {
        "colab": {
          "base_uri": "https://localhost:8080/"
        },
        "id": "cLVbLLc5qgoO",
        "outputId": "e2abb67b-10ea-40d2-dbec-f0ce75d7d430"
      },
      "execution_count": 8,
      "outputs": [
        {
          "output_type": "execute_result",
          "data": {
            "text/plain": [
              "F_onewayResult(statistic=5.500053450812596, pvalue=0.010482206918698694)"
            ]
          },
          "metadata": {},
          "execution_count": 8
        }
      ]
    },
    {
      "cell_type": "markdown",
      "source": [
        "Получили значение $pvalue=0.01048$\n",
        " на уровне статистической значимости $alpha=0.05$ значит\n",
        " отвергаем нулевую гипотезу. Т.е. средний рост футболистов, хоккеистов и штангистоа различен."
      ],
      "metadata": {
        "id": "Td-1bjpjriOn"
      }
    }
  ]
}