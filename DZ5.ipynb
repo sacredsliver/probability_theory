{
  "nbformat": 4,
  "nbformat_minor": 0,
  "metadata": {
    "colab": {
      "provenance": [],
      "authorship_tag": "ABX9TyPsryt4IS2wi3xXJ+Y4Gpla",
      "include_colab_link": true
    },
    "kernelspec": {
      "name": "python3",
      "display_name": "Python 3"
    },
    "language_info": {
      "name": "python"
    }
  },
  "cells": [
    {
      "cell_type": "markdown",
      "metadata": {
        "id": "view-in-github",
        "colab_type": "text"
      },
      "source": [
        "<a href=\"https://colab.research.google.com/github/sacredsliver/probability_theory/blob/main/DZ5.ipynb\" target=\"_parent\"><img src=\"https://colab.research.google.com/assets/colab-badge.svg\" alt=\"Open In Colab\"/></a>"
      ]
    },
    {
      "cell_type": "code",
      "execution_count": null,
      "metadata": {
        "id": "YEOaL0yWxBc4"
      },
      "outputs": [],
      "source": [
        "import numpy as np\n",
        "import scipy.stats as stats"
      ]
    },
    {
      "cell_type": "markdown",
      "source": [
        "**Задача 1**"
      ],
      "metadata": {
        "id": "vOWkvdN4gG5U"
      }
    },
    {
      "cell_type": "markdown",
      "source": [
        "**Z-критерий** используется для проверки гипотезы о равенстве средних значений двух совокупностей, когда размеры выборок большие и дисперсии совокупностей известны.\n",
        "\n",
        "**t-критерий** (критерий Стьюдента) используется для проверки гипотезы о равенстве средних значений двух генеральных совокупностей, когда размеры выборок малы или неизвестны дисперсии совокупностей."
      ],
      "metadata": {
        "id": "WsIvXc-0gJXw"
      }
    },
    {
      "cell_type": "markdown",
      "source": [
        "**Задача 2**"
      ],
      "metadata": {
        "id": "XKUDeYUDZyki"
      }
    },
    {
      "cell_type": "markdown",
      "source": [
        "Проведите тест гипотезы. Утверждается, что шарики для подшипников, изготовленные\n",
        "автоматическим станком, имеют средний диаметр 17 мм.\n",
        "Используя односторонний критерий с α=0,05, проверить эту гипотезу, если в выборке из\n",
        "n=100 шариков средний диаметр\n",
        "оказался равным 17.5 мм, а дисперсия известна и равна 4 кв. мм."
      ],
      "metadata": {
        "id": "7qIEDbCHZyYT"
      }
    },
    {
      "cell_type": "markdown",
      "source": [
        "Составим гипотезы\n",
        "\n",
        "$H_0$ :  $М = 17$\n",
        "\n",
        "$H_1$ :  $М > 17$"
      ],
      "metadata": {
        "id": "rcTyYb4Ravc3"
      }
    },
    {
      "cell_type": "markdown",
      "source": [
        "Поскольку нам известны и среднее и дисперсия, то для проверки гипотезы будем использовать $z$-критерий.  \n",
        "$z_н=\\frac{\\bar X-\\mu_0}{\\sigma/\\sqrt n}$, где  \n",
        "$\\bar X=17.5$ среднее по выборке,  \n",
        "$ \\mu_0 = 17$ среднее генеральной совокупности,  \n",
        "$\\sigma=\\sqrt 4=2$ среднее квадратическое отклонение генеральной совокупности,  \n",
        "$n=100$ размер выборки.  "
      ],
      "metadata": {
        "id": "LtWs0y7ed00X"
      }
    },
    {
      "cell_type": "code",
      "source": [
        "z=(17.5-17)/0.2\n",
        "print(f'Наблюдаемое значение z: {z: .4f}')"
      ],
      "metadata": {
        "colab": {
          "base_uri": "https://localhost:8080/"
        },
        "id": "uicW-C0BeH4I",
        "outputId": "d071799a-46ff-45b9-d7e9-2d3355dfd0aa"
      },
      "execution_count": null,
      "outputs": [
        {
          "output_type": "stream",
          "name": "stdout",
          "text": [
            "Наблюдаемое значение z:  2.5000\n"
          ]
        }
      ]
    },
    {
      "cell_type": "markdown",
      "source": [
        "Найдем табличное значение $z_к$, для $\\alpha=0.05$\n",
        "\n",
        "Табличное значение $z_к = 1.6449$    \n",
        "$z_н = 2.5$"
      ],
      "metadata": {
        "id": "52PY6jbSePNF"
      }
    },
    {
      "cell_type": "markdown",
      "source": [
        "Поскольку $z_н>z_к$, гипотезу $H_0$ отвергаем"
      ],
      "metadata": {
        "id": "IqTU6Q1Meo_s"
      }
    },
    {
      "cell_type": "markdown",
      "source": [
        "**Задача 3**"
      ],
      "metadata": {
        "id": "alKwKC6lETtN"
      }
    },
    {
      "cell_type": "markdown",
      "source": [
        "\n",
        "Проведите тест гипотезы. Продавец утверждает, что средний вес пачки печенья\n",
        "составляет 200 г.\n",
        "Из партии извлечена выборка из 10 пачек. Вес каждой пачки составляет:\n",
        "202, 203, 199, 197, 195, 201, 200, 204, 194, 190.\n",
        "Известно, что их веса распределены нормально.\n",
        "Верно ли утверждение продавца, если учитывать, что доверительная вероятность равна\n",
        "99%?"
      ],
      "metadata": {
        "id": "2uTIO8RcEBHz"
      }
    },
    {
      "cell_type": "markdown",
      "source": [
        "Соствим гипотезы\n",
        "\n",
        "$H_0$ :  $М = 200$\n",
        "\n",
        "$H_1$ :  $М \\neq 200$"
      ],
      "metadata": {
        "id": "ZlkJ_a5JG0hV"
      }
    },
    {
      "cell_type": "code",
      "source": [
        "weights = np.array([202, 203, 199, 197, 195, 201, 200, 204, 194, 190])\n",
        "n = 10\n",
        "\n",
        "mean = weights.mean()\n",
        "std = weights.std(ddof=1)\n",
        "\n",
        "mean, std"
      ],
      "metadata": {
        "colab": {
          "base_uri": "https://localhost:8080/"
        },
        "id": "r2GZ71AUXp1P",
        "outputId": "25802f18-fe07-4ff0-ba93-f60254d4b2af"
      },
      "execution_count": null,
      "outputs": [
        {
          "output_type": "execute_result",
          "data": {
            "text/plain": [
              "(198.5, 4.453463071962462)"
            ]
          },
          "metadata": {},
          "execution_count": 7
        }
      ]
    },
    {
      "cell_type": "markdown",
      "source": [
        "Поскольку мы проверяем гипотезу относительно математического ожидания нормально распределённой случайной величины\n",
        "с неизвестной дисперсией, будем использовать статистику:\n",
        "\n",
        "$$t = \\dfrac{\\overline{X} - a}{\\sigma_X / \\sqrt{n}}$$"
      ],
      "metadata": {
        "id": "N7Gsm4qAGgGE"
      }
    },
    {
      "cell_type": "markdown",
      "source": [
        "Статистика имеет вид:\n",
        "$$t = \\dfrac{\\overline{X} - 200}{std / \\sqrt{10}} = \\dfrac{\\sqrt{10} \\cdot (\\overline{X} - 200)}{std}.$$"
      ],
      "metadata": {
        "id": "rZ-aPnI7GuUw"
      }
    },
    {
      "cell_type": "code",
      "source": [
        "# t- наблюдаемое\n",
        "t = (mean-200)/(std/np.sqrt(n))\n",
        "t"
      ],
      "metadata": {
        "colab": {
          "base_uri": "https://localhost:8080/"
        },
        "id": "fCR5EQnEKgMU",
        "outputId": "a350302a-f967-4870-ac39-59361300616e"
      },
      "execution_count": null,
      "outputs": [
        {
          "output_type": "execute_result",
          "data": {
            "text/plain": [
              "-1.0651074037450896"
            ]
          },
          "metadata": {},
          "execution_count": 8
        }
      ]
    },
    {
      "cell_type": "markdown",
      "source": [
        "Доверительная вероятность $= 0.99$, число степеней свободы = $n - 1 = 9$"
      ],
      "metadata": {
        "id": "bFQRp3PwK5Q2"
      }
    },
    {
      "cell_type": "markdown",
      "source": [
        "по таблице Стьюдента находим критическое  \n",
        "$t_1= 3.25$   \n",
        "$t_2= -3.25$"
      ],
      "metadata": {
        "id": "vK1l7htBDu-F"
      }
    },
    {
      "cell_type": "markdown",
      "source": [
        "$$\\Omega_\\alpha = (-\\infty, -3.25) \\cup (3.25, \\infty).$$"
      ],
      "metadata": {
        "id": "CszXy-G7Lkj2"
      }
    },
    {
      "cell_type": "markdown",
      "source": [
        "Значение $t$ не попадает в критическую область, таким образом, гипотезу $H_0$ не отвергаем"
      ],
      "metadata": {
        "id": "3sRF9_2JLlp4"
      }
    },
    {
      "cell_type": "markdown",
      "source": [
        "**Задача 4**"
      ],
      "metadata": {
        "id": "yWgB1CEdi7v5"
      }
    },
    {
      "cell_type": "markdown",
      "source": [
        "Есть ли статистически значимые различия в росте\n",
        "дочерей?"
      ],
      "metadata": {
        "id": "2Qxje2Prsq17"
      }
    },
    {
      "cell_type": "code",
      "source": [
        "mothers = [172, 177, 158, 170, 178, 175, 164, 160, 169, 165]\n",
        "daughters = [173, 175, 162, 174, 175, 168, 155, 170, 160, 163]\n",
        "\n",
        "stats.ttest_rel(mothers, daughters)\n"
      ],
      "metadata": {
        "colab": {
          "base_uri": "https://localhost:8080/"
        },
        "id": "JfesK1Qwi-eH",
        "outputId": "cf969636-9f02-43ab-c162-6e158c21a4f7"
      },
      "execution_count": null,
      "outputs": [
        {
          "output_type": "execute_result",
          "data": {
            "text/plain": [
              "Ttest_relResult(statistic=0.664847853143198, pvalue=0.5228168632983574)"
            ]
          },
          "metadata": {},
          "execution_count": 14
        }
      ]
    },
    {
      "cell_type": "markdown",
      "source": [
        "Так как $p-value > \\alpha (0,05)$   \n",
        "$H_0$ не отвергаем"
      ],
      "metadata": {
        "id": "8UYVsN4Vk5F6"
      }
    },
    {
      "cell_type": "markdown",
      "source": [
        "Статистически заничмых различий нет."
      ],
      "metadata": {
        "id": "2GIcjYNessmw"
      }
    }
  ]
}