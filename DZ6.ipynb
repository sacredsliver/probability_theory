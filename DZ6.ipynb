{
  "nbformat": 4,
  "nbformat_minor": 0,
  "metadata": {
    "colab": {
      "provenance": [],
      "authorship_tag": "ABX9TyPzsDz+q1seLOPeIA1vjaUc",
      "include_colab_link": true
    },
    "kernelspec": {
      "name": "python3",
      "display_name": "Python 3"
    },
    "language_info": {
      "name": "python"
    }
  },
  "cells": [
    {
      "cell_type": "markdown",
      "metadata": {
        "id": "view-in-github",
        "colab_type": "text"
      },
      "source": [
        "<a href=\"https://colab.research.google.com/github/sacredsliver/probability_theory/blob/main/DZ6.ipynb\" target=\"_parent\"><img src=\"https://colab.research.google.com/assets/colab-badge.svg\" alt=\"Open In Colab\"/></a>"
      ]
    },
    {
      "cell_type": "code",
      "execution_count": null,
      "metadata": {
        "id": "eDpMCeRjay2l"
      },
      "outputs": [],
      "source": [
        "import numpy as np\n",
        "import scipy.stats as stats"
      ]
    },
    {
      "cell_type": "markdown",
      "source": [
        "**Задача 1.** Известно, что генеральная совокупность распределена нормально\n",
        "со средним квадратическим отклонением, равным 16.\n",
        "Найти доверительный интервал для оценки математического ожидания a с надежностью\n",
        "0.95,\n",
        "если выборочная средняя M = 80, а объем выборки n = 256."
      ],
      "metadata": {
        "id": "AC2quBfYa2e0"
      }
    },
    {
      "cell_type": "markdown",
      "source": [
        "Нам известно среднее квадратическое отклонение генеральной совокупности $\\sigma=16$, поэтому для расчета доверительного интервала, будем использовать $Z$-критерий.   \n",
        "$\\displaystyle\\bar X\\pm z_{\\alpha/2}\\cdot\\frac{\\sigma}{\\sqrt n}$, где:  \n",
        "$\\bar X=M=80$-среднее значение выборки    \n",
        "$z_{\\alpha/2}$ табличное значение $Z$-критерия, и для $95\\%$-го доверительного интервала $z_{\\alpha/2}=1,96$  \n",
        "$\\sigma=16$-среднее квадратическое отклонение генеральной совокупности  \n",
        "$n=256$-объем выборки  \n"
      ],
      "metadata": {
        "id": "F4_NTq-_bUVa"
      }
    },
    {
      "cell_type": "code",
      "source": [
        "left=80-1.96*16/256**0.5\n",
        "right=80+1.96*16/256**0.5\n",
        "print(f'доверительный интервал для оценки мат. ожидания генеральной совокупности: [{left};{right}].')"
      ],
      "metadata": {
        "colab": {
          "base_uri": "https://localhost:8080/"
        },
        "id": "ok_phM5hbs_9",
        "outputId": "a8569743-28bf-4e4f-c307-9170bfa89a22"
      },
      "execution_count": null,
      "outputs": [
        {
          "output_type": "stream",
          "name": "stdout",
          "text": [
            "доверительный интервал для оценки мат. ожидания генеральной совокупности: [78.04;81.96].\n"
          ]
        }
      ]
    },
    {
      "cell_type": "markdown",
      "source": [
        "**Задача 2.** В результате 10 независимых измерений некоторой величины X, выполненных с\n",
        "одинаковой точностью,\n",
        "получены опытные данные:\n",
        "6.9, 6.1, 6.2, 6.8, 7.5, 6.3, 6.4, 6.9, 6.7, 6.1\n",
        "Предполагая, что результаты измерений подчинены нормальному закону распределения\n",
        "вероятностей,\n",
        "оценить истинное значение величины X при помощи доверительного интервала,\n",
        "покрывающего это\n",
        "значение с доверительной вероятностью 0,95."
      ],
      "metadata": {
        "id": "jkl8Ad0LcglE"
      }
    },
    {
      "cell_type": "markdown",
      "source": [
        "Поскольку из условия задачи нам ничего не известно ни о мат. ожидании генеральной совокупности ни о среднем квадратическом отклонении для генеральной совокупности, то для расчета $95\\%$-го доверительного интервала будем использовать $t$-критерий,  и формулу:  \n",
        "$\\displaystyle\\bar X\\pm t_{\\alpha/2}\\cdot\\frac{\\sigma_{несмещ}}{\\sqrt{n}}$, где  \n",
        "$\\sigma_{несмещ}$-несмещённое среднее квадратическое отклонение выборки,  \n",
        "$n$-размер выборки"
      ],
      "metadata": {
        "id": "SK4CXYcVc-kr"
      }
    },
    {
      "cell_type": "code",
      "source": [
        "arr=np.array([6.9, 6.1, 6.2, 6.8, 7.5, 6.3, 6.4, 6.9, 6.7, 6.1])\n",
        "n=len(arr)\n",
        "m=np.mean(arr)\n",
        "std=np.std(arr, ddof=1)\n",
        "print(f'Среднее выборочное: {m},\\n'\n",
        "      f'Размер выборки n={n},\\n'\n",
        "      f'Среднее квадратическое отклонение по выборке(несмещенное): {std}.'\n",
        "     )\n"
      ],
      "metadata": {
        "colab": {
          "base_uri": "https://localhost:8080/"
        },
        "id": "gMlDPH6QdFsN",
        "outputId": "150e14d0-f99c-49dd-d2ba-5a83976c598c"
      },
      "execution_count": null,
      "outputs": [
        {
          "output_type": "stream",
          "name": "stdout",
          "text": [
            "Среднее выборочное: 6.590000000000001,\n",
            "Размер выборки n=10,\n",
            "Среднее квадратическое отклонение по выборке(несмещенное): 0.4508017549014448.\n"
          ]
        }
      ]
    },
    {
      "cell_type": "code",
      "source": [
        "alpha=1-0.95\n",
        "t=stats.t.ppf(1-alpha/2, n-1)\n",
        "print(f'значение t-критерия для 95%-го доверительного интервала данной выборки: {t}')"
      ],
      "metadata": {
        "colab": {
          "base_uri": "https://localhost:8080/"
        },
        "id": "Uq0qeGBVe5-R",
        "outputId": "e5c654af-b45d-4cdb-e97c-346fb90f012c"
      },
      "execution_count": null,
      "outputs": [
        {
          "output_type": "stream",
          "name": "stdout",
          "text": [
            "значение t-критерия для 95%-го доверительного интервала данной выборки: 2.2621571627409915\n"
          ]
        }
      ]
    },
    {
      "cell_type": "code",
      "source": [
        "left=round(m-t*std/n**0.5,3)\n",
        "right=round(m+t*std/n**0.5,3)\n",
        "print(f'95%-й доверительный интервал для истинного значения Х: [{left};{right}]')"
      ],
      "metadata": {
        "colab": {
          "base_uri": "https://localhost:8080/"
        },
        "id": "3c0ReHJZeplQ",
        "outputId": "af3ae6f0-ddad-4219-d906-661d720f2a4d"
      },
      "execution_count": null,
      "outputs": [
        {
          "output_type": "stream",
          "name": "stdout",
          "text": [
            "95%-й доверительный интервал для истинного значения Х: [6.268;6.912]\n"
          ]
        }
      ]
    },
    {
      "cell_type": "markdown",
      "source": [
        "**Задача 3.** Рост дочерей 175, 167, 154, 174, 178, 148, 160, 167, 169, 170\n",
        "Рост матерей 178, 165, 165, 173, 168, 155, 160, 164, 178, 175\n",
        "\n",
        "Используя эти данные построить 95% доверительный интервал для разности среднего\n",
        "роста родителей и детей."
      ],
      "metadata": {
        "id": "qMhM8qXhj5X1"
      }
    },
    {
      "cell_type": "code",
      "source": [
        "daughters = np.array([175, 167, 154, 174, 178, 148, 160, 167, 169, 170])\n",
        "mothers = np.array([178, 165, 165, 173, 168, 155, 160, 164, 178, 175])\n",
        "\n",
        "mean_difference = np.mean(mothers) - np.mean(daughters)\n",
        "std = np.sqrt((np.std(mothers) ** 2 / len(mothers)) + (np.std(daughters) ** 2 / len(daughters)))\n",
        "a = 1.96 * std\n",
        "confidence_interval = (mean_difference - a, mean_difference + a)\n",
        "\n",
        "print(\"95% доверительный интервал разности среднего роста родителей и детей:\", confidence_interval)\n"
      ],
      "metadata": {
        "id": "n0Z3gv5CmRkX",
        "colab": {
          "base_uri": "https://localhost:8080/"
        },
        "outputId": "bed8a951-67af-4235-d2a3-b8a0188e8426"
      },
      "execution_count": null,
      "outputs": [
        {
          "output_type": "stream",
          "name": "stdout",
          "text": [
            "95% доверительный интервал разности среднего роста родителей и детей: (-5.329451431471127, 9.12945143147114)\n"
          ]
        }
      ]
    }
  ]
}