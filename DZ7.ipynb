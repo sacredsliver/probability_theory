{
  "nbformat": 4,
  "nbformat_minor": 0,
  "metadata": {
    "colab": {
      "provenance": [],
      "authorship_tag": "ABX9TyPtmjD59jV/7ixuZPhhL2ae"
    },
    "kernelspec": {
      "name": "python3",
      "display_name": "Python 3"
    },
    "language_info": {
      "name": "python"
    }
  },
  "cells": [
    {
      "cell_type": "code",
      "execution_count": 1,
      "metadata": {
        "id": "QKRpPOAnfjCf"
      },
      "outputs": [],
      "source": [
        "import numpy as np\n",
        "import scipy.stats as stats"
      ]
    },
    {
      "cell_type": "markdown",
      "source": [
        "**Задача 1.** Даны две независимые выборки. Не соблюдается условие нормальности  \n",
        "x1 380,420, 290   \n",
        "y1 140,360,200,900   \n",
        "Сделайте вывод по результатам, полученным с помощью функции"
      ],
      "metadata": {
        "id": "e1c6-tWPf4K9"
      }
    },
    {
      "cell_type": "code",
      "source": [
        "x1=np.array([380,420,290])\n",
        "y1=np.array([140,360,200,900])\n",
        "alpha=0.05\n",
        "stats.mannwhitneyu(x1, y1)"
      ],
      "metadata": {
        "colab": {
          "base_uri": "https://localhost:8080/"
        },
        "id": "jthnEFiEf4qA",
        "outputId": "b09f265b-381b-41c7-f9d8-f450a93d8f6a"
      },
      "execution_count": 2,
      "outputs": [
        {
          "output_type": "execute_result",
          "data": {
            "text/plain": [
              "MannwhitneyuResult(statistic=8.0, pvalue=0.6285714285714286)"
            ]
          },
          "metadata": {},
          "execution_count": 2
        }
      ]
    },
    {
      "cell_type": "markdown",
      "source": [
        "$pvalue>\\alpha(0.05)$\n",
        "статистически значимых различий нет\n",
        "$H_0$ не отвергаем"
      ],
      "metadata": {
        "id": "1E8eou6Jg3pE"
      }
    },
    {
      "cell_type": "markdown",
      "source": [
        "**Задача 2.** Исследовалось влияние препарата на уровень давления пациентов. Сначала\n",
        "измерялось давление до приема препарата, потом через 10 минут и через 30 минут.\n",
        " \n",
        "Есть\n",
        "ли статистически значимые различия?          \n",
        "1е измерение до приема препарата: 150, 160, 165, 145, 155             \n",
        "2е измерение через 10 минут: 140, 155, 150, 130, 135            \n",
        "3е измерение через 30 минут: 130, 130, 120, 130, 125            "
      ],
      "metadata": {
        "id": "bMzocENwhl32"
      }
    },
    {
      "cell_type": "code",
      "source": [
        "x1=np.array([150, 160, 165, 145, 155])\n",
        "x2=np.array([140, 155, 150, 130, 135])\n",
        "x3=np.array([130, 130, 120, 130, 125])\n",
        "alpha=0.05\n",
        "stats.friedmanchisquare(x1, x2, x3)"
      ],
      "metadata": {
        "colab": {
          "base_uri": "https://localhost:8080/"
        },
        "id": "75jKYN9KiCs2",
        "outputId": "0335bb96-2e59-487a-909a-7e3c3784ad0f"
      },
      "execution_count": 3,
      "outputs": [
        {
          "output_type": "execute_result",
          "data": {
            "text/plain": [
              "FriedmanchisquareResult(statistic=9.578947368421062, pvalue=0.00831683351100441)"
            ]
          },
          "metadata": {},
          "execution_count": 3
        }
      ]
    },
    {
      "cell_type": "markdown",
      "source": [
        "$pvalue<\\alpha(0.05)$\n",
        "статистически значимых различия есть\n",
        "$H_0$ отвергаем, препарат влияет на давление"
      ],
      "metadata": {
        "id": "WPEbRigJiabC"
      }
    },
    {
      "cell_type": "markdown",
      "source": [
        "**Задача 3.** Сравните 1 и 2 е измерения, предполагая, что 3го измерения через 30 минут не было."
      ],
      "metadata": {
        "id": "YbjIhP0vjAY1"
      }
    },
    {
      "cell_type": "code",
      "source": [
        "x1=np.array([150, 160, 165, 145, 155])\n",
        "x2=np.array([140, 155, 150, 130, 135])\n",
        "\n",
        "alpha=0.05\n",
        "stats.wilcoxon(x1, x2)"
      ],
      "metadata": {
        "colab": {
          "base_uri": "https://localhost:8080/"
        },
        "id": "XpVQe1X3jJEj",
        "outputId": "6d2e080a-e6b3-44aa-f31d-6acc13ba0494"
      },
      "execution_count": 4,
      "outputs": [
        {
          "output_type": "execute_result",
          "data": {
            "text/plain": [
              "WilcoxonResult(statistic=0.0, pvalue=0.0625)"
            ]
          },
          "metadata": {},
          "execution_count": 4
        }
      ]
    },
    {
      "cell_type": "markdown",
      "source": [
        "$pvalue>\\alpha(0.05)$\n",
        "статистически значимых различий нет\n",
        "$H_0$ не отвергаем, препарат не влияет на давление"
      ],
      "metadata": {
        "id": "M7-sr1gmjjIQ"
      }
    },
    {
      "cell_type": "markdown",
      "source": [
        "**Задача 4.** Даны 3 группы учеников плавания.\n",
        "\n",
        "В 1 группе время на дистанцию 50 м составляют:\n",
        "56, 60, 62, 55, 71, 67, 59, 58, 64, 67                 \n",
        "Вторая группа : 57, 58, 69, 48, 72, 70, 68, 71, 50, 53                      \n",
        "Третья группа: 57, 67, 49, 48, 47, 55, 66, 51, 54"
      ],
      "metadata": {
        "id": "w2am9hdAjxd4"
      }
    },
    {
      "cell_type": "code",
      "source": [
        "x1=np.array([56, 60, 62, 55, 71, 67, 59, 58, 64, 67])\n",
        "x2=np.array([57, 58, 69, 48, 72, 70, 68, 71, 50, 53])\n",
        "x3=np.array([57, 67, 49, 48, 47, 55, 66, 51, 54])\n",
        "alpha=0.05\n",
        "stats.kruskal(x1,x2,x3)"
      ],
      "metadata": {
        "colab": {
          "base_uri": "https://localhost:8080/"
        },
        "id": "Wmrd7PwxkFxo",
        "outputId": "fbeec788-7be1-452e-b4e6-e0fd4211feed"
      },
      "execution_count": 5,
      "outputs": [
        {
          "output_type": "execute_result",
          "data": {
            "text/plain": [
              "KruskalResult(statistic=5.465564058257224, pvalue=0.0650380998590494)"
            ]
          },
          "metadata": {},
          "execution_count": 5
        }
      ]
    },
    {
      "cell_type": "markdown",
      "source": [
        "$pvalue>\\alpha(0.05)$\n",
        "статистически значимых различий нет\n",
        "$H_0$ не отвергаем, время на дистанцию одинаковое"
      ],
      "metadata": {
        "id": "_3p7uJsMknaJ"
      }
    },
    {
      "cell_type": "markdown",
      "source": [
        "**Задача 5.** Заявляется, что партия изготавливается со средним арифметическим 2,5 см. Проверить\n",
        "данную гипотезу, если известно, что размеры изделий подчинены нормальному закону\n",
        "распределения. Объем выборки 10, уровень статистической значимости 5%\n",
        "2.51, 2.35, 2.74, 2.56, 2.40, 2.36, 2.65, 2.7, 2.67, 2.34"
      ],
      "metadata": {
        "id": "9Ri6-Vb7k73b"
      }
    },
    {
      "cell_type": "markdown",
      "source": [
        "Соствим гипотезы\n",
        "\n",
        "$H_0$ :  $М = 2,5$\n",
        "\n",
        "$H_1$ :  $М \\neq 2.5$"
      ],
      "metadata": {
        "id": "3e_KF7ZumzuS"
      }
    },
    {
      "cell_type": "code",
      "source": [
        "weights = np.array([2.51, 2.35, 2.74, 2.56, 2.40, 2.36, 2.65, 2.7, 2.67, 2.34])\n",
        "n = 10\n",
        "\n",
        "mean = weights.mean()\n",
        "std = weights.std(ddof=1)\n",
        "\n",
        "mean, std"
      ],
      "metadata": {
        "colab": {
          "base_uri": "https://localhost:8080/"
        },
        "id": "QRbni7PanZPQ",
        "outputId": "1ded6da2-bf7a-4d6a-9f94-db7fa8cb51f9"
      },
      "execution_count": 6,
      "outputs": [
        {
          "output_type": "execute_result",
          "data": {
            "text/plain": [
              "(2.5279999999999996, 0.1572542173961923)"
            ]
          },
          "metadata": {},
          "execution_count": 6
        }
      ]
    },
    {
      "cell_type": "markdown",
      "source": [
        "Поскольку мы проверяем гипотезу относительно математического ожидания нормально распределённой случайной величины\n",
        "с неизвестной дисперсией, будем использовать статистику:\n",
        "\n",
        "$$t = \\dfrac{\\overline{X} - a}{\\sigma_X / \\sqrt{n}}$$"
      ],
      "metadata": {
        "id": "UyaUUPPjnU40"
      }
    },
    {
      "cell_type": "code",
      "source": [
        "# t- наблюдаемое\n",
        "t = (mean-2.5)/(std/np.sqrt(n))\n",
        "t"
      ],
      "metadata": {
        "colab": {
          "base_uri": "https://localhost:8080/"
        },
        "id": "AKmzN7IMn4sI",
        "outputId": "6af25803-d75b-4854-9a0b-4d859210a098"
      },
      "execution_count": 8,
      "outputs": [
        {
          "output_type": "execute_result",
          "data": {
            "text/plain": [
              "0.5630613661802959"
            ]
          },
          "metadata": {},
          "execution_count": 8
        }
      ]
    },
    {
      "cell_type": "markdown",
      "source": [
        "Доверительная вероятность $= 0.05$, число степеней свободы = $n - 1 = 9$"
      ],
      "metadata": {
        "id": "KJwZ6iiEoNk5"
      }
    },
    {
      "cell_type": "markdown",
      "source": [
        "по таблице Стьюдента находим критическое  \n",
        "$t_1= 0.064$   \n",
        "$t_2= -0.064$\n"
      ],
      "metadata": {
        "id": "uX0XmFFqoYOP"
      }
    },
    {
      "cell_type": "markdown",
      "source": [
        "$$\\Omega_\\alpha = (-\\infty, -0.064) \\cup (0.064, \\infty).$$"
      ],
      "metadata": {
        "id": "wUC91r2Ip3mk"
      }
    },
    {
      "cell_type": "markdown",
      "source": [
        "Значение $t$ попадает в критическую область, таким образом, гипотезу $H_1$ не отвергаем, партия изготавливается со средним арифметическим $\\neq 2.5$"
      ],
      "metadata": {
        "id": "HOOcdHmcpzdO"
      }
    }
  ]
}