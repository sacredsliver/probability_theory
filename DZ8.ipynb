{
  "nbformat": 4,
  "nbformat_minor": 0,
  "metadata": {
    "colab": {
      "provenance": [],
      "authorship_tag": "ABX9TyM/bpp9+IC3Fj1idQbvK/jq"
    },
    "kernelspec": {
      "name": "python3",
      "display_name": "Python 3"
    },
    "language_info": {
      "name": "python"
    }
  },
  "cells": [
    {
      "cell_type": "code",
      "execution_count": 55,
      "metadata": {
        "id": "oeejGq7JC715"
      },
      "outputs": [],
      "source": [
        "import numpy as np\n",
        "import pandas as pd\n",
        "from scipy import stats\n",
        "import matplotlib.pyplot as plt"
      ]
    },
    {
      "cell_type": "markdown",
      "source": [
        "**Задача 1** Даны значения величины заработной платы заемщиков банка (zp) и значения их\n",
        "поведенческого кредитного скоринга (ks):\n",
        "zp = [35, 45, 190, 200, 40, 70, 54, 150, 120, 110],\n",
        "ks = [401, 574, 874, 919, 459, 739, 653, 902, 746, 832].\n",
        "Найдите ковариацию этих двух величин с помощью элементарных действий, а затем с\n",
        "помощью функции cov из numpy\n",
        "Полученные значения должны быть равны.\n",
        "Найдите коэффициент корреляции Пирсона с помощью ковариации и\n",
        "среднеквадратичных отклонений двух признаков,\n",
        "а затем с использованием функций из библиотек numpy и pandas."
      ],
      "metadata": {
        "id": "MzgVh9SWDKky"
      }
    },
    {
      "cell_type": "code",
      "source": [
        "zp=np.array([35, 45, 190, 200, 40, 70, 54, 150, 120, 110])\n",
        "ks=np.array([401, 574, 874, 919, 459, 739, 653, 902, 746, 832])\n"
      ],
      "metadata": {
        "id": "DwzBzqzPDRRR"
      },
      "execution_count": 56,
      "outputs": []
    },
    {
      "cell_type": "code",
      "source": [
        "plt.scatter(zp,ks)\n",
        "plt.xlabel('Величина заработной платы')\n",
        "plt.ylabel('Поведенческий кредитный скоринг', rotation=90)\n",
        "plt.show()"
      ],
      "metadata": {
        "colab": {
          "base_uri": "https://localhost:8080/",
          "height": 279
        },
        "id": "Wn6HSZa_GCP8",
        "outputId": "a5d94b6d-e8ef-4ba7-b7e5-70c187322deb"
      },
      "execution_count": 57,
      "outputs": [
        {
          "output_type": "display_data",
          "data": {
            "text/plain": [
              "<Figure size 432x288 with 1 Axes>"
            ],
            "image/png": "[encoded data removed]"
          },
          "metadata": {
            "needs_background": "light"
          }
        }
      ]
    },
    {
      "cell_type": "markdown",
      "source": [
        "Как видно из графика, зависимость линейная. Значит будем ожидать, что между этими данными существует выраженная положительная корреляция"
      ],
      "metadata": {
        "id": "PyFj7VHhGdTj"
      }
    },
    {
      "cell_type": "markdown",
      "source": [
        "Считаем ковариацию через мат ожидание"
      ],
      "metadata": {
        "id": "PT5UZn1aDZLp"
      }
    },
    {
      "cell_type": "code",
      "source": [
        "cov=np.mean(zp*ks)-np.mean(zp)*np.mean(ks)\n",
        "cov"
      ],
      "metadata": {
        "colab": {
          "base_uri": "https://localhost:8080/"
        },
        "id": "BOwftPECDsnu",
        "outputId": "de16f413-2899-4e7b-de49-339f22c58d06"
      },
      "execution_count": 58,
      "outputs": [
        {
          "output_type": "execute_result",
          "data": {
            "text/plain": [
              "9157.839999999997"
            ]
          },
          "metadata": {},
          "execution_count": 58
        }
      ]
    },
    {
      "cell_type": "markdown",
      "source": [
        " через смещенную функцию cov"
      ],
      "metadata": {
        "id": "wZiUfcbLEHYq"
      }
    },
    {
      "cell_type": "code",
      "source": [
        "cov2=np.cov(zp,ks,ddof=0)\n",
        "cov2"
      ],
      "metadata": {
        "colab": {
          "base_uri": "https://localhost:8080/"
        },
        "id": "L4X42yGDEE99",
        "outputId": "f657de05-fb22-4eb2-9954-7a24dbe4e3b9"
      },
      "execution_count": 59,
      "outputs": [
        {
          "output_type": "execute_result",
          "data": {
            "text/plain": [
              "array([[ 3494.64,  9157.84],\n",
              "       [ 9157.84, 30468.89]])"
            ]
          },
          "metadata": {},
          "execution_count": 59
        }
      ]
    },
    {
      "cell_type": "markdown",
      "source": [
        "коэф пирсона через формулу смещенной ковариации"
      ],
      "metadata": {
        "id": "23zf_aW-El_t"
      }
    },
    {
      "cell_type": "code",
      "source": [
        "pear=cov/(zp.std(ddof=0)*ks.std(ddof=0))\n",
        "pear"
      ],
      "metadata": {
        "colab": {
          "base_uri": "https://localhost:8080/"
        },
        "id": "g-7BYRWhEm39",
        "outputId": "9515bfac-e186-4e37-933f-82f3000d4c6d"
      },
      "execution_count": 60,
      "outputs": [
        {
          "output_type": "execute_result",
          "data": {
            "text/plain": [
              "0.8874900920739158"
            ]
          },
          "metadata": {},
          "execution_count": 60
        }
      ]
    },
    {
      "cell_type": "markdown",
      "source": [
        "через Numpy"
      ],
      "metadata": {
        "id": "lfHO-P61E-WN"
      }
    },
    {
      "cell_type": "code",
      "source": [
        "pear_np=np.corrcoef(zp, ks)\n",
        "pear_np"
      ],
      "metadata": {
        "colab": {
          "base_uri": "https://localhost:8080/"
        },
        "id": "HeDeuLKUFK8A",
        "outputId": "6ca02716-7af5-4938-f65a-59df20e1ce29"
      },
      "execution_count": 61,
      "outputs": [
        {
          "output_type": "execute_result",
          "data": {
            "text/plain": [
              "array([[1.        , 0.88749009],\n",
              "       [0.88749009, 1.        ]])"
            ]
          },
          "metadata": {},
          "execution_count": 61
        }
      ]
    },
    {
      "cell_type": "markdown",
      "source": [
        "через Pandas"
      ],
      "metadata": {
        "id": "R-Ji7vx8FLN8"
      }
    },
    {
      "cell_type": "code",
      "source": [
        "df=pd.DataFrame(data={'zp':zp, 'ks':ks})\n",
        "df.corr()"
      ],
      "metadata": {
        "colab": {
          "base_uri": "https://localhost:8080/",
          "height": 112
        },
        "id": "NPtBtHlvFiYf",
        "outputId": "af11ab09-9125-40d4-8fa8-97dd65ace166"
      },
      "execution_count": 62,
      "outputs": [
        {
          "output_type": "execute_result",
          "data": {
            "text/plain": [
              "         zp       ks\n",
              "zp  1.00000  0.88749\n",
              "ks  0.88749  1.00000"
            ],
            "text/html": [
              "\n",
              "  <div id=\"df-f0e43342-7226-48e3-9d4c-2edf50fb85ac\">\n",
              "    <div class=\"colab-df-container\">\n",
              "      <div>\n",
              "<style scoped>\n",
              "    .dataframe tbody tr th:only-of-type {\n",
              "        vertical-align: middle;\n",
              "    }\n",
              "\n",
              "    .dataframe tbody tr th {\n",
              "        vertical-align: top;\n",
              "    }\n",
              "\n",
              "    .dataframe thead th {\n",
              "        text-align: right;\n",
              "    }\n",
              "</style>\n",
              "<table border=\"1\" class=\"dataframe\">\n",
              "  <thead>\n",
              "    <tr style=\"text-align: right;\">\n",
              "      <th></th>\n",
              "      <th>zp</th>\n",
              "      <th>ks</th>\n",
              "    </tr>\n",
              "  </thead>\n",
              "  <tbody>\n",
              "    <tr>\n",
              "      <th>zp</th>\n",
              "      <td>1.00000</td>\n",
              "      <td>0.88749</td>\n",
              "    </tr>\n",
              "    <tr>\n",
              "      <th>ks</th>\n",
              "      <td>0.88749</td>\n",
              "      <td>1.00000</td>\n",
              "    </tr>\n",
              "  </tbody>\n",
              "</table>\n",
              "</div>\n",
              "      <button class=\"colab-df-convert\" onclick=\"convertToInteractive('df-f0e43342-7226-48e3-9d4c-2edf50fb85ac')\"\n",
              "              title=\"Convert this dataframe to an interactive table.\"\n",
              "              style=\"display:none;\">\n",
              "        \n",
              "  <svg xmlns=\"http://www.w3.org/2000/svg\" height=\"24px\"viewBox=\"0 0 24 24\"\n",
              "       width=\"24px\">\n",
              "    <path d=\"M0 0h24v24H0V0z\" fill=\"none\"/>\n",
              "    <path d=\"M18.56 5.44l.94 2.06.94-2.06 2.06-.94-2.06-.94-.94-2.06-.94 2.06-2.06.94zm-11 1L8.5 8.5l.94-2.06 2.06-.94-2.06-.94L8.5 2.5l-.94 2.06-2.06.94zm10 10l.94 2.06.94-2.06 2.06-.94-2.06-.94-.94-2.06-.94 2.06-2.06.94z\"/><path d=\"M17.41 7.96l-1.37-1.37c-.4-.4-.92-.59-1.43-.59-.52 0-1.04.2-1.43.59L10.3 9.45l-7.72 7.72c-.78.78-.78 2.05 0 2.83L4 21.41c.39.39.9.59 1.41.59.51 0 1.02-.2 1.41-.59l7.78-7.78 2.81-2.81c.8-.78.8-2.07 0-2.86zM5.41 20L4 18.59l7.72-7.72 1.47 1.35L5.41 20z\"/>\n",
              "  </svg>\n",
              "      </button>\n",
              "      \n",
              "  <style>\n",
              "    .colab-df-container {\n",
              "      display:flex;\n",
              "      flex-wrap:wrap;\n",
              "      gap: 12px;\n",
              "    }\n",
              "\n",
              "    .colab-df-convert {\n",
              "      background-color: #E8F0FE;\n",
              "      border: none;\n",
              "      border-radius: 50%;\n",
              "      cursor: pointer;\n",
              "      display: none;\n",
              "      fill: #1967D2;\n",
              "      height: 32px;\n",
              "      padding: 0 0 0 0;\n",
              "      width: 32px;\n",
              "    }\n",
              "\n",
              "    .colab-df-convert:hover {\n",
              "      background-color: #E2EBFA;\n",
              "      box-shadow: 0px 1px 2px rgba(60, 64, 67, 0.3), 0px 1px 3px 1px rgba(60, 64, 67, 0.15);\n",
              "      fill: #174EA6;\n",
              "    }\n",
              "\n",
              "    [theme=dark] .colab-df-convert {\n",
              "      background-color: #3B4455;\n",
              "      fill: #D2E3FC;\n",
              "    }\n",
              "\n",
              "    [theme=dark] .colab-df-convert:hover {\n",
              "      background-color: #434B5C;\n",
              "      box-shadow: 0px 1px 3px 1px rgba(0, 0, 0, 0.15);\n",
              "      filter: drop-shadow(0px 1px 2px rgba(0, 0, 0, 0.3));\n",
              "      fill: #FFFFFF;\n",
              "    }\n",
              "  </style>\n",
              "\n",
              "      <script>\n",
              "        const buttonEl =\n",
              "          document.querySelector('#df-f0e43342-7226-48e3-9d4c-2edf50fb85ac button.colab-df-convert');\n",
              "        buttonEl.style.display =\n",
              "          google.colab.kernel.accessAllowed ? 'block' : 'none';\n",
              "\n",
              "        async function convertToInteractive(key) {\n",
              "          const element = document.querySelector('#df-f0e43342-7226-48e3-9d4c-2edf50fb85ac');\n",
              "          const dataTable =\n",
              "            await google.colab.kernel.invokeFunction('convertToInteractive',\n",
              "                                                     [key], {});\n",
              "          if (!dataTable) return;\n",
              "\n",
              "          const docLinkHtml = 'Like what you see? Visit the ' +\n",
              "            '<a target=\"_blank\" href=https://colab.research.google.com/notebooks/data_table.ipynb>data table notebook</a>'\n",
              "            + ' to learn more about interactive tables.';\n",
              "          element.innerHTML = '';\n",
              "          dataTable['output_type'] = 'display_data';\n",
              "          await google.colab.output.renderOutput(dataTable, element);\n",
              "          const docLink = document.createElement('div');\n",
              "          docLink.innerHTML = docLinkHtml;\n",
              "          element.appendChild(docLink);\n",
              "        }\n",
              "      </script>\n",
              "    </div>\n",
              "  </div>\n",
              "  "
            ]
          },
          "metadata": {},
          "execution_count": 62
        }
      ]
    },
    {
      "cell_type": "markdown",
      "source": [
        "**Вывод**: существует сильная линейная взаимосвязь между исходными данными"
      ],
      "metadata": {
        "id": "hLgtJ-yiHVQe"
      }
    },
    {
      "cell_type": "markdown",
      "source": [
        "**Задача 2** Измерены значения IQ выборки студентов,\n",
        "обучающихся в местных технических вузах:\n",
        "131, 125, 115, 122, 131, 115, 107, 99, 125, 111.\n",
        "Известно, что в генеральной совокупности IQ распределен нормально.\n",
        "Найдите доверительный интервал для математического ожидания с надежностью 0.95."
      ],
      "metadata": {
        "id": "TK_y8j66IGsv"
      }
    },
    {
      "cell_type": "code",
      "source": [
        "iq=np.array([131, 125, 115, 122, 131, 115, 107, 99, 125, 111])"
      ],
      "metadata": {
        "id": "fPY4n-OlI478"
      },
      "execution_count": 63,
      "outputs": []
    },
    {
      "cell_type": "markdown",
      "source": [
        "Поскольку из условия задачи нам ничего не известно ни о мат. ожидании генеральной совокупности ни о среднем квадратическом отклонении для генеральной совокупности, то для расчета \n",
        "доверительного интервала будем использовать \n",
        "$t$-критерий"
      ],
      "metadata": {
        "id": "U755i64SI_w2"
      }
    },
    {
      "cell_type": "code",
      "source": [
        "n=iq.size\n",
        "std=iq.std(ddof=1)\n",
        "mean=iq.mean()\n",
        "print(f'Среднее выборочное: {mean:.2f},\\n'\n",
        "      f'Размер выборки n=: {n},\\n'\n",
        "      f'Среднее квадратическое отклонение по выборке(несмещенное): {std:.2f}.'\n",
        "     )"
      ],
      "metadata": {
        "colab": {
          "base_uri": "https://localhost:8080/"
        },
        "id": "WI7-4ZtNJArg",
        "outputId": "96a45982-d331-42c8-9e29-598ad0dd990e"
      },
      "execution_count": 64,
      "outputs": [
        {
          "output_type": "stream",
          "name": "stdout",
          "text": [
            "Среднее выборочное: 118.10,\n",
            "Размер выборки n=: 10,\n",
            "Среднее квадратическое отклонение по выборке(несмещенное): 10.55.\n"
          ]
        }
      ]
    },
    {
      "cell_type": "markdown",
      "source": [
        "считаем значения $t$ и отклонение"
      ],
      "metadata": {
        "id": "dFsO4k-9KMh7"
      }
    },
    {
      "cell_type": "code",
      "source": [
        "t=stats.t.ppf((1+0.95)/2,n-1)\n",
        "d=t*std/(n)**.5\n",
        "d,t"
      ],
      "metadata": {
        "colab": {
          "base_uri": "https://localhost:8080/"
        },
        "id": "dBNs-MkKKP6T",
        "outputId": "ae5a5bfc-4a73-4613-93c8-4b2eb08b9fad"
      },
      "execution_count": 65,
      "outputs": [
        {
          "output_type": "execute_result",
          "data": {
            "text/plain": [
              "(7.543916348412745, 2.2621571627409915)"
            ]
          },
          "metadata": {},
          "execution_count": 65
        }
      ]
    },
    {
      "cell_type": "markdown",
      "source": [
        "считаем интервал"
      ],
      "metadata": {
        "id": "tnrFN64gNZ2K"
      }
    },
    {
      "cell_type": "code",
      "source": [
        "a=mean-d\n",
        "b=mean+d\n",
        "print(f'95%-й доверительный интервал для истинного значения IQ: [{a: .4f};{b: .4f}].')"
      ],
      "metadata": {
        "colab": {
          "base_uri": "https://localhost:8080/"
        },
        "id": "LdZvH2o1NYMx",
        "outputId": "59abd34a-d19d-4239-fad8-5f6a7e6c2821"
      },
      "execution_count": 66,
      "outputs": [
        {
          "output_type": "stream",
          "name": "stdout",
          "text": [
            "95%-й доверительный интервал для истинного значения IQ: [ 110.5561; 125.6439].\n"
          ]
        }
      ]
    },
    {
      "cell_type": "markdown",
      "source": [
        "**Задача 3** Известно, что рост футболистов в сборной распределен нормально\n",
        "с дисперсией генеральной совокупности, равной 25 кв.см. Объем выборки равен 27,\n",
        "среднее выборочное составляет 174.2. Найдите доверительный интервал для\n",
        "математического\n",
        "ожидания с надежностью 0.95."
      ],
      "metadata": {
        "id": "EbtdVeo6OHPf"
      }
    },
    {
      "cell_type": "markdown",
      "source": [
        "Поскольку нам известнa дисперсия генеральной совокупности, то для расчета \n",
        "доверительного интервала, будем использовать $z$\n",
        "-критерий."
      ],
      "metadata": {
        "id": "4mR-EXheOd4m"
      }
    },
    {
      "cell_type": "code",
      "source": [
        "var=25\n",
        "std=(var)**.5\n",
        "n=27\n",
        "mean=174.2"
      ],
      "metadata": {
        "id": "IoGPayxvPMyS"
      },
      "execution_count": 67,
      "outputs": []
    },
    {
      "cell_type": "markdown",
      "source": [
        "считаем значения z и отклонения"
      ],
      "metadata": {
        "id": "vwkzQUy8PRil"
      }
    },
    {
      "cell_type": "code",
      "source": [
        "z=stats.t.ppf((1+0.95)/2,n-1)\n",
        "d=z*std/(n)**.5\n",
        "d,z"
      ],
      "metadata": {
        "colab": {
          "base_uri": "https://localhost:8080/"
        },
        "id": "bU160XZKPYKR",
        "outputId": "5f4f4020-6456-457e-ce33-daab8aa799fd"
      },
      "execution_count": 68,
      "outputs": [
        {
          "output_type": "execute_result",
          "data": {
            "text/plain": [
              "(1.977934124546103, 2.055529438642871)"
            ]
          },
          "metadata": {},
          "execution_count": 68
        }
      ]
    },
    {
      "cell_type": "code",
      "source": [
        "a=mean-d\n",
        "b=mean+d\n",
        "print(f'95%-й доверительный интервал для оценки мат. ожидания генеральной совокупности: [{a: .4f};{b: .4f}].')"
      ],
      "metadata": {
        "colab": {
          "base_uri": "https://localhost:8080/"
        },
        "id": "9md9h8CzP0Ph",
        "outputId": "0bd59090-e411-4a3b-e4aa-d627e118d28e"
      },
      "execution_count": 69,
      "outputs": [
        {
          "output_type": "stream",
          "name": "stdout",
          "text": [
            "95%-й доверительный интервал для оценки мат. ожидания генеральной совокупности: [ 172.2221; 176.1779].\n"
          ]
        }
      ]
    }
  ]
}